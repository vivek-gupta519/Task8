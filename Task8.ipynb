{
  "nbformat": 4,
  "nbformat_minor": 0,
  "metadata": {
    "colab": {
      "provenance": []
    },
    "kernelspec": {
      "name": "python3",
      "display_name": "Python 3"
    },
    "language_info": {
      "name": "python"
    }
  },
  "cells": [
    {
      "cell_type": "code",
      "source": [
        "!pip install streamlit pandas plotly pyngrok --quiet\n"
      ],
      "metadata": {
        "id": "pdwiJQCGP_SA"
      },
      "execution_count": 2,
      "outputs": []
    },
    {
      "cell_type": "code",
      "source": [
        "import pandas as pd\n",
        "import numpy as np\n",
        "\n",
        "# Sample data parameters\n",
        "np.random.seed(42)\n",
        "n = 200\n",
        "\n",
        "# Generate random data\n",
        "dates = pd.date_range(start=\"2020-01-01\", end=\"2020-12-31\", periods=n)\n",
        "regions = [\"East\", \"West\", \"Central\", \"South\"]\n",
        "categories = [\"Furniture\", \"Office Supplies\", \"Technology\"]\n",
        "\n",
        "data = {\n",
        "    \"Order Date\": np.random.choice(dates, n),\n",
        "    \"Region\": np.random.choice(regions, n),\n",
        "    \"Category\": np.random.choice(categories, n),\n",
        "    \"Sales\": np.round(np.random.uniform(100, 5000, n), 2),\n",
        "    \"Profit\": np.round(np.random.uniform(-500, 2000, n), 2)\n",
        "}\n",
        "\n",
        "df = pd.DataFrame(data)\n",
        "df.to_csv(\"Superstore_Sales.csv\", index=False)\n",
        "\n",
        "print(\"✅ Superstore_Sales.csv created with\", len(df), \"rows\")\n"
      ],
      "metadata": {
        "colab": {
          "base_uri": "https://localhost:8080/"
        },
        "id": "h9L8uqXpQBZA",
        "outputId": "15d1597a-1d44-49f0-d079-c52d57ee5570"
      },
      "execution_count": 3,
      "outputs": [
        {
          "output_type": "stream",
          "name": "stdout",
          "text": [
            "✅ Superstore_Sales.csv created with 200 rows\n"
          ]
        }
      ]
    },
    {
      "cell_type": "code",
      "source": [
        "%%writefile dashboard.py\n",
        "import pandas as pd\n",
        "import plotly.express as px\n",
        "import streamlit as st\n",
        "\n",
        "# Page setup\n",
        "st.set_page_config(page_title=\"Simple Sales Dashboard\", layout=\"wide\")\n",
        "st.title(\"📊 Simple Sales Dashboard\")\n",
        "\n",
        "# Load dataset\n",
        "df = pd.read_csv(\"Superstore_Sales.csv\")\n",
        "df['Order Date'] = pd.to_datetime(df['Order Date'])\n",
        "df['Month-Year'] = df['Order Date'].dt.strftime('%b-%Y')\n",
        "\n",
        "# Sidebar filter\n",
        "region_filter = st.sidebar.multiselect(\n",
        "    \"Select Region(s)\",\n",
        "    options=df['Region'].unique(),\n",
        "    default=df['Region'].unique()\n",
        ")\n",
        "\n",
        "# Filter data\n",
        "df_filtered = df[df['Region'].isin(region_filter)]\n",
        "\n",
        "# Line Chart: Sales over Months\n",
        "sales_month = df_filtered.groupby('Month-Year')['Sales'].sum().reset_index()\n",
        "fig_line = px.line(sales_month, x='Month-Year', y='Sales', title=\"Sales Over Months\")\n",
        "fig_line.update_traces(mode='lines+markers')\n",
        "\n",
        "# Bar Chart: Sales by Region\n",
        "sales_region = df_filtered.groupby('Region')['Sales'].sum().reset_index()\n",
        "fig_bar = px.bar(sales_region, x='Region', y='Sales', title=\"Sales by Region\",\n",
        "                 color='Sales', text='Sales')\n",
        "fig_bar.update_traces(texttemplate='%{text:.2s}', textposition='outside')\n",
        "\n",
        "# Donut Chart: Sales by Category\n",
        "sales_category = df_filtered.groupby('Category')['Sales'].sum().reset_index()\n",
        "fig_donut = px.pie(sales_category, values='Sales', names='Category',\n",
        "                   hole=0.5, title=\"Sales by Category\")\n",
        "\n",
        "# Layout\n",
        "col1, col2 = st.columns([2, 1])\n",
        "col1.plotly_chart(fig_line, use_container_width=True)\n",
        "col2.plotly_chart(fig_donut, use_container_width=True)\n",
        "\n",
        "st.plotly_chart(fig_bar, use_container_width=True)\n",
        "\n",
        "# Insights\n",
        "st.markdown(\"### 🔍 Insights\")\n",
        "st.write(\"\"\"\n",
        "1. West region often shows the highest total sales.\n",
        "2. Technology usually dominates category sales.\n",
        "3. Sales tend to peak in holiday months like November and December.\n",
        "\"\"\")\n",
        "\n",
        "# Footer\n",
        "st.markdown(\"---\")\n",
        "st.markdown(\"Created with ❤️ using Streamlit & Plotly\")\n"
      ],
      "metadata": {
        "colab": {
          "base_uri": "https://localhost:8080/"
        },
        "id": "sebGPyKgQMCn",
        "outputId": "6ea1072c-e3d3-4f0f-842f-c828eedf0ced"
      },
      "execution_count": 4,
      "outputs": [
        {
          "output_type": "stream",
          "name": "stdout",
          "text": [
            "Writing dashboard.py\n"
          ]
        }
      ]
    },
    {
      "cell_type": "code",
      "source": [
        "from pyngrok import ngrok\n",
        "!streamlit run dashboard.py &\n",
        "\n",
        "# Open ngrok tunnel\n",
        "public_url = ngrok.connect(8501)\n",
        "print(\"🌐 Dashboard is live at:\", public_url)\n"
      ],
      "metadata": {
        "colab": {
          "base_uri": "https://localhost:8080/"
        },
        "id": "JFUGjAvwQSQL",
        "outputId": "5f4b8bbc-fd4c-4d4a-c6d8-bd7c0bb6c764"
      },
      "execution_count": null,
      "outputs": [
        {
          "output_type": "stream",
          "name": "stdout",
          "text": [
            "\n",
            "Collecting usage statistics. To deactivate, set browser.gatherUsageStats to false.\n",
            "\u001b[0m\n",
            "\u001b[0m\n",
            "\u001b[34m\u001b[1m  You can now view your Streamlit app in your browser.\u001b[0m\n",
            "\u001b[0m\n",
            "\u001b[34m  Local URL: \u001b[0m\u001b[1mhttp://localhost:8501\u001b[0m\n",
            "\u001b[34m  Network URL: \u001b[0m\u001b[1mhttp://172.28.0.12:8501\u001b[0m\n",
            "\u001b[34m  External URL: \u001b[0m\u001b[1mhttp://34.12.87.197:8501\u001b[0m\n",
            "\u001b[0m\n"
          ]
        }
      ]
    }
  ]
}